{
 "cells": [
  {
   "cell_type": "code",
   "execution_count": null,
   "metadata": {},
   "outputs": [],
   "source": [
    "import smtplib\n",
    "#for any Authentication Error\n",
    "#https://www.google.com/settings/security/lesssecureapps\n",
    "smtp_obj=smtplib.SMTP(\"smtp.gmail.com\",587)\n",
    "smtp_obj.ehlo() #The 250 in the return value means then the greeting succeeded. \n",
    "smtp_obj.starttls() # The 220 in the return value tells you that the server is ready.\n",
    "email=input(\"Enter your email address :\\t\")\n",
    "smtp_obj.login(email,input(\"Enter your Password :\\t\")) #The 235 in the return value means authentication was successful\n",
    "recipient_num=int(input(\"Enter no.of recipients :\\t\"))\n",
    "#If the return value from sendmail() is an empty dictionary means all recipients were successfully sent the email.\n",
    "smtp_obj.sendmail(email,[input(\"Recipient Email:\\t\") for recipient in range(recipient_num)],f\"Subject: {input('Subject : ')}\\n{input('Message Body : ')}\")\n",
    "smtp_obj.quit() #The 221 in the return value means the session is ending"
   ]
  },
  {
   "cell_type": "code",
   "execution_count": null,
   "metadata": {},
   "outputs": [],
   "source": [
    "import imapclient\n",
    "imap_obj=imapclient.IMAPClient('imap.gmail.com',ssl=True)\n",
    "try:\n",
    "    imap_obj.login(input(\"Enter Email Address :\\t\"),input(\"Enter Password:\\t\"))\n",
    "except LoginError:\n",
    "    print(\"Invalid credentials (Failure)\")"
   ]
  },
  {
   "cell_type": "code",
   "execution_count": null,
   "metadata": {},
   "outputs": [],
   "source": [
    "for num,folder in enumerate(imap_obj.list_folders()):\n",
    "    print(num+1,folder[2])\n",
    "folder_name=imap_obj.list_folders()[int(input(\"Enter folder number :\\t\"))-1][2]\n",
    "imap_obj.select_folder(folder_name, readonly=True)"
   ]
  },
  {
   "cell_type": "code",
   "execution_count": null,
   "metadata": {},
   "outputs": [],
   "source": [
    "UIDs=imap_obj.search('ON 07-Jun-2020')"
   ]
  },
  {
   "cell_type": "code",
   "execution_count": null,
   "metadata": {},
   "outputs": [],
   "source": [
    "raw_messages=imap_obj.fetch(UIDs,['BODY[]'])\n",
    "import pyzmail\n",
    "for UID in UIDs:\n",
    "    message=pyzmail.PyzMessage.factory(raw_messages[UID][b'BODY[]'])\n",
    "    print(\"Subject : {}\".format(message.get_subject()))\n",
    "    print(\"From :  {}\".format(\"\\n\\t\".join([tuple[0]+\" : \"+tuple[1] for tuple in message.get_addresses('from')])))\n",
    "    print(\"To :  {}\".format(\"\\n\\t\".join([tuple[0]+\" : \"+tuple[1] for tuple in message.get_addresses('to')])))\n",
    "    print(\"CC :  {}\".format(\"\\n\\t\".join([tuple[0]+\" : \"+tuple[1] for tuple in message.get_addresses('cc')])))\n",
    "    print(\"BCC :  {}\".format(\"\\n\\t\".join([tuple[0]+\" : \"+tuple[1] for tuple in message.get_addresses('bcc')])))\n",
    "    if message.text_part!=None:\n",
    "        mail_text=message.text_part.get_payload().decode('utf-8')\n",
    "        print(\"BODY :  {}\".format(\"\\n\\t\".join(mail_text.split('\\n'))))\n",
    "imap_obj.logout()"
   ]
  },
  {
   "cell_type": "code",
   "execution_count": null,
   "metadata": {},
   "outputs": [],
   "source": []
  }
 ],
 "metadata": {
  "kernelspec": {
   "display_name": "Python 3",
   "language": "python",
   "name": "python3"
  },
  "language_info": {
   "codemirror_mode": {
    "name": "ipython",
    "version": 3
   },
   "file_extension": ".py",
   "mimetype": "text/x-python",
   "name": "python",
   "nbconvert_exporter": "python",
   "pygments_lexer": "ipython3",
   "version": "3.7.6"
  }
 },
 "nbformat": 4,
 "nbformat_minor": 4
}
