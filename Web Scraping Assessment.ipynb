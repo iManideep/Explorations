{
 "cells": [
  {
   "cell_type": "code",
   "execution_count": null,
   "metadata": {},
   "outputs": [],
   "source": [
    "from bs4 import BeautifulSoup\n",
    "import pandas as pd\n",
    "import requests"
   ]
  },
  {
   "cell_type": "code",
   "execution_count": null,
   "metadata": {},
   "outputs": [],
   "source": [
    "url='https://www.programmableweb.com/category/all/apis'"
   ]
  },
  {
   "cell_type": "code",
   "execution_count": null,
   "metadata": {},
   "outputs": [],
   "source": [
    "api_df=pd.DataFrame(columns=['API Name','API Link','Category','Description'])"
   ]
  },
  {
   "cell_type": "code",
   "execution_count": null,
   "metadata": {},
   "outputs": [],
   "source": [
    "while True:\n",
    "    response=requests.get(url)\n",
    "    data=response.text\n",
    "    soup= BeautifulSoup(data,'html.parser')\n",
    "    for tr_tag in soup.find_all('tr')[1:]:\n",
    "        api_name_tag=tr_tag.find('td',{'class':\"views-field views-field-pw-version-title\"})\n",
    "        api_name_text=api_name_tag.text\n",
    "        api_link=\"https://www.programmableweb.com\"+api_name_tag.find('a').get('href')\n",
    "        api_category=tr_tag.find('td',{'class':\"views-field views-field-field-article-primary-category\"}).text\n",
    "        api_description=tr_tag.find('td',{'class':\"views-field views-field-search-api-excerpt views-field-field-api-description hidden-xs visible-md visible-sm col-md-8\"}).text\n",
    "        api_df=api_df.append(pd.Series([api_name_text,api_link,api_category,api_description],index=api_df.columns),ignore_index=True)\n",
    "    next_tag=soup.find('a',{'title':\"Go to next page\"})\n",
    "    if next_tag:\n",
    "        if next_tag.get('href'):\n",
    "            url=\"https://www.programmableweb.com\"+next_tag.get('href')\n",
    "        else:\n",
    "            break\n",
    "    else:\n",
    "        break"
   ]
  },
  {
   "cell_type": "code",
   "execution_count": null,
   "metadata": {},
   "outputs": [],
   "source": [
    "api_df.to_csv('api_data.csv')"
   ]
  },
  {
   "cell_type": "code",
   "execution_count": null,
   "metadata": {},
   "outputs": [],
   "source": []
  }
 ],
 "metadata": {
  "kernelspec": {
   "display_name": "Python 3",
   "language": "python",
   "name": "python3"
  },
  "language_info": {
   "codemirror_mode": {
    "name": "ipython",
    "version": 3
   },
   "file_extension": ".py",
   "mimetype": "text/x-python",
   "name": "python",
   "nbconvert_exporter": "python",
   "pygments_lexer": "ipython3",
   "version": "3.7.6"
  }
 },
 "nbformat": 4,
 "nbformat_minor": 4
}
