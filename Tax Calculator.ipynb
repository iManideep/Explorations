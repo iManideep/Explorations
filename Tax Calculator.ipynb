{
 "cells": [
  {
   "cell_type": "code",
   "execution_count": null,
   "metadata": {},
   "outputs": [],
   "source": [
    "from math import ceil,floor"
   ]
  },
  {
   "cell_type": "code",
   "execution_count": null,
   "metadata": {},
   "outputs": [],
   "source": [
    "package=int(input(\"Enter Annual Package:\\n\"))"
   ]
  },
  {
   "cell_type": "code",
   "execution_count": null,
   "metadata": {},
   "outputs": [],
   "source": [
    "basic_pay=ceil((package*0.35)/12)*12"
   ]
  },
  {
   "cell_type": "code",
   "execution_count": null,
   "metadata": {},
   "outputs": [],
   "source": [
    "hra=ceil((package*0.175)/12)*12"
   ]
  },
  {
   "cell_type": "code",
   "execution_count": null,
   "metadata": {},
   "outputs": [],
   "source": [
    "pf=input(\"Enter PF Details:\\n N - Nil  F - 1800  Y - 12% of Basic Pay\\n\")"
   ]
  },
  {
   "cell_type": "code",
   "execution_count": null,
   "metadata": {},
   "outputs": [],
   "source": [
    "if pf=='Y':\n",
    "    pf=basic_pay*0.12\n",
    "elif pf=='F':\n",
    "    pf=21600\n",
    "elif pf=='N':\n",
    "    pf=0"
   ]
  },
  {
   "cell_type": "code",
   "execution_count": null,
   "metadata": {},
   "outputs": [],
   "source": [
    "meal_allowance=12*int(input(\"Enter Monthly Meal Vocher Details:\\n0 1100 2200\\n\"))"
   ]
  },
  {
   "cell_type": "code",
   "execution_count": null,
   "metadata": {},
   "outputs": [],
   "source": [
    "lta_total=40000"
   ]
  },
  {
   "cell_type": "code",
   "execution_count": null,
   "metadata": {},
   "outputs": [],
   "source": [
    "lta=0\n",
    "if input(\"Is LTA mentioned in Compensation Plan: \")=='Y':\n",
    "    lta=int(input(\"Enter the amount mentioned in LTA :\\n\"))"
   ]
  },
  {
   "cell_type": "code",
   "execution_count": null,
   "metadata": {},
   "outputs": [],
   "source": [
    "misc_allowance=floor((lta_total-lta)/12)*12"
   ]
  },
  {
   "cell_type": "code",
   "execution_count": null,
   "metadata": {},
   "outputs": [],
   "source": [
    "adhoc_allowance=package-basic_pay-hra-pf-meal_allowance-misc_allowance"
   ]
  },
  {
   "cell_type": "code",
   "execution_count": null,
   "metadata": {},
   "outputs": [],
   "source": [
    "gross_salary=basic_pay+hra+misc_allowance+adhoc_allowance"
   ]
  },
  {
   "cell_type": "code",
   "execution_count": null,
   "metadata": {},
   "outputs": [],
   "source": [
    "rent_paid=12*int(input(\"Enter actual rent paid per month:\\n\"))"
   ]
  },
  {
   "cell_type": "code",
   "execution_count": null,
   "metadata": {},
   "outputs": [],
   "source": [
    "metro_flag=input(\"Enter city details:\\n Metropolitan - M  Non-metropolitan - N\\n\")"
   ]
  },
  {
   "cell_type": "code",
   "execution_count": null,
   "metadata": {},
   "outputs": [],
   "source": [
    "if metro_flag=='M':\n",
    "    rule2=0.5*basic_pay\n",
    "elif metro_flag=='N':\n",
    "    rule2=0.4*basic_pay"
   ]
  },
  {
   "cell_type": "code",
   "execution_count": null,
   "metadata": {},
   "outputs": [],
   "source": [
    "rule3=rent_paid-0.1*basic_pay"
   ]
  },
  {
   "cell_type": "code",
   "execution_count": null,
   "metadata": {},
   "outputs": [],
   "source": [
    "hra_exempt=min(hra,rule2,rule3)"
   ]
  },
  {
   "cell_type": "code",
   "execution_count": null,
   "metadata": {},
   "outputs": [],
   "source": [
    "total_exempt=lta+hra_exempt"
   ]
  },
  {
   "cell_type": "code",
   "execution_count": null,
   "metadata": {},
   "outputs": [],
   "source": [
    "standard_deduction=50000"
   ]
  },
  {
   "cell_type": "code",
   "execution_count": null,
   "metadata": {},
   "outputs": [],
   "source": [
    "professional_tax=2400"
   ]
  },
  {
   "cell_type": "code",
   "execution_count": null,
   "metadata": {},
   "outputs": [],
   "source": [
    "salary_after_sec16=gross_salary-total_exempt-standard_deduction-professional_tax"
   ]
  },
  {
   "cell_type": "code",
   "execution_count": null,
   "metadata": {},
   "outputs": [],
   "source": [
    "amount_80c=pf"
   ]
  },
  {
   "cell_type": "code",
   "execution_count": null,
   "metadata": {},
   "outputs": [],
   "source": [
    "if input(\"Any investments done under 80C: \")=='Y':\n",
    "    string_section80c=\"Enter investments other than PF under 80C:\\n 1)ELSS\\n 2)Life Insurance Premium\\n 3)Fixed Deposit\\n 4)Sukanya Samriddhi Account\\n\"\n",
    "    amount_80c=sum([int(investment) for investment in input(string_section80c).split()])+amount_80c"
   ]
  },
  {
   "cell_type": "code",
   "execution_count": null,
   "metadata": {},
   "outputs": [],
   "source": [
    "salary_after_sec80c=salary_after_sec16-amount_80c"
   ]
  },
  {
   "cell_type": "code",
   "execution_count": null,
   "metadata": {},
   "outputs": [],
   "source": [
    "if salary_after_sec80c>250000 and salary_after_sec80c<=500000:\n",
    "    tax=ceil(salary_after_sec80c*0.05)\n",
    "elif salary_after_sec80c>500000 and salary_after_sec80c<=1000000:\n",
    "    tax=ceil(12500+(salary_after_sec80c-500000)*0.2)\n",
    "elif salary_after_sec80c>1000000:\n",
    "    tax=ceil(112500+(salary_after_sec80c-1000000)*0.3)"
   ]
  },
  {
   "cell_type": "code",
   "execution_count": null,
   "metadata": {},
   "outputs": [],
   "source": [
    "health_edu_cess=floor(tax*0.04)"
   ]
  },
  {
   "cell_type": "code",
   "execution_count": null,
   "metadata": {},
   "outputs": [],
   "source": [
    "tax_payable=tax+health_edu_cess"
   ]
  },
  {
   "cell_type": "code",
   "execution_count": null,
   "metadata": {},
   "outputs": [],
   "source": [
    "print(\"Per Month Tax Dedcuted at Source = \",ceil(tax_payable/12))"
   ]
  },
  {
   "cell_type": "code",
   "execution_count": null,
   "metadata": {},
   "outputs": [],
   "source": []
  }
 ],
 "metadata": {
  "kernelspec": {
   "display_name": "Python 3",
   "language": "python",
   "name": "python3"
  },
  "language_info": {
   "codemirror_mode": {
    "name": "ipython",
    "version": 3
   },
   "file_extension": ".py",
   "mimetype": "text/x-python",
   "name": "python",
   "nbconvert_exporter": "python",
   "pygments_lexer": "ipython3",
   "version": "3.7.6"
  }
 },
 "nbformat": 4,
 "nbformat_minor": 4
}
