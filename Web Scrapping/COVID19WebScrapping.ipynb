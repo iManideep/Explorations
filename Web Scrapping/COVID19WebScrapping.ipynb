{
 "cells": [
  {
   "cell_type": "code",
   "execution_count": 2,
   "metadata": {},
   "outputs": [],
   "source": [
    "from bs4 import BeautifulSoup\n",
    "import requests\n",
    "from flask import request,render_template,Flask\n",
    "from camelot import read_pdf\n",
    "import html\n",
    "import pandas as pd"
   ]
  },
  {
   "cell_type": "code",
   "execution_count": 3,
   "metadata": {},
   "outputs": [],
   "source": [
    "app = Flask(__name__)\n",
    "\n",
    "@app.route('/',methods=['GET'])\n",
    "def index():\n",
    "    return render_template('Home.html')\n",
    "\n",
    "@app.route('/dashboard',methods=['GET'])\n",
    "def today():\n",
    "    response=requests.get(\"http://hmfw.ap.gov.in/covid_dashboard.aspx\")\n",
    "    soup=BeautifulSoup(response.text,'html.parser')\n",
    "    table=soup.find('table',{'class':\"table table-bordered table-striped\"})\n",
    "    tr_tags=table.find_all('tr')\n",
    "    flag=0\n",
    "    for tr_tag in tr_tags:\n",
    "        td_tags=tr_tag.find_all('td')\n",
    "        list_elements=[]\n",
    "        for td_tag in td_tags:\n",
    "            list_elements.append(td_tag.text.replace('\\n',''))\n",
    "        if flag==0:\n",
    "            content=pd.DataFrame(columns=list_elements)\n",
    "            flag=1\n",
    "        else:\n",
    "            district_row=pd.Series(list_elements,index=content.columns)\n",
    "            content=content.append(district_row,ignore_index=True)\n",
    "    table_html=content.to_html(columns=content.columns).replace('\\n','')\n",
    "    return render_template('table.html',dashboard=True,table=table_html)\n",
    "\n",
    "@app.route('/andhrapradesh',methods=['POST','GET'])\n",
    "def ap():\n",
    "    date=request.form.get('date')\n",
    "    url='http://hmfw.ap.gov.in/covid_19_datewisebulletins.aspx'\n",
    "    payload={'date':date}\n",
    "    response=requests.get(url,params=payload)\n",
    "    soup=BeautifulSoup(response.text,'html.parser')\n",
    "    for a in soup.find_all('a')[::-1]:\n",
    "        if date in a.get('href'):\n",
    "            url='http://hmfw.ap.gov.in'+a.get('href')\n",
    "            break\n",
    "    table=read_pdf(url)\n",
    "    df=table[0].df\n",
    "    df=df.rename(columns=df.iloc[0])[1:]\n",
    "    table_html=df.to_html(columns=df.columns).replace('\\n','')\n",
    "    return render_template('table.html',dashboard=False,title=date,table=table_html)"
   ]
  },
  {
   "cell_type": "code",
   "execution_count": 4,
   "metadata": {},
   "outputs": [
    {
     "name": "stdout",
     "output_type": "stream",
     "text": [
      " * Serving Flask app \"__main__\" (lazy loading)\n",
      " * Environment: production\n",
      "   WARNING: This is a development server. Do not use it in a production deployment.\n",
      "   Use a production WSGI server instead.\n",
      " * Debug mode: off\n"
     ]
    },
    {
     "name": "stderr",
     "output_type": "stream",
     "text": [
      " * Running on http://127.0.0.1:5000/ (Press CTRL+C to quit)\n"
     ]
    }
   ],
   "source": [
    "app.run()"
   ]
  },
  {
   "cell_type": "code",
   "execution_count": null,
   "metadata": {},
   "outputs": [],
   "source": []
  }
 ],
 "metadata": {
  "kernelspec": {
   "display_name": "Python 3",
   "language": "python",
   "name": "python3"
  },
  "language_info": {
   "codemirror_mode": {
    "name": "ipython",
    "version": 3
   },
   "file_extension": ".py",
   "mimetype": "text/x-python",
   "name": "python",
   "nbconvert_exporter": "python",
   "pygments_lexer": "ipython3",
   "version": "3.7.6"
  }
 },
 "nbformat": 4,
 "nbformat_minor": 4
}
