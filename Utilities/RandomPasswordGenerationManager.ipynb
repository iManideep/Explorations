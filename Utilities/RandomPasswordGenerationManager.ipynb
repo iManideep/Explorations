{
 "cells": [
  {
   "cell_type": "code",
   "execution_count": 1,
   "metadata": {},
   "outputs": [],
   "source": [
    "import random\n",
    "import array\n",
    "DIGITS = ['0', '1', '2', '3', '4', '5', '6', '7', '8', '9']\n",
    "LOCASE_CHARACTERS = ['a', 'b', 'c', 'd', 'e', 'f', 'g', 'h',  \n",
    "                     'i', 'j', 'k', 'm', 'n', 'o', 'p', 'q', \n",
    "                     'r', 's', 't', 'u', 'v', 'w', 'x', 'y', \n",
    "                     'z']\n",
    "UPCASE_CHARACTERS = ['A', 'B', 'C', 'D', 'E', 'F', 'G', 'H',  \n",
    "                     'I', 'J', 'K', 'M', 'N', 'O', 'p', 'Q', \n",
    "                     'R', 'S', 'T', 'U', 'V', 'W', 'X', 'Y', \n",
    "                     'Z']\n",
    "SYMBOLS = ['@', '#', '$', '%', '=', ':', '?', '.', '/', '|', '~', '>',  \n",
    "           '*', '(', ')', '<']\n",
    "COMBINED_LIST = DIGITS + UPCASE_CHARACTERS + LOCASE_CHARACTERS + SYMBOLS"
   ]
  },
  {
   "cell_type": "code",
   "execution_count": 2,
   "metadata": {},
   "outputs": [
    {
     "name": "stdout",
     "output_type": "stream",
     "text": [
      "Enter Application:Facebook\n",
      "Enter Length of Password:11\n"
     ]
    }
   ],
   "source": [
    "Application = input(\"Enter Application:\")\n",
    "MAX_LEN = int(input(\"Enter Length of Password:\"))\n",
    "rand_digit = random.choice(DIGITS)\n",
    "rand_upper = random.choice(UPCASE_CHARACTERS) \n",
    "rand_lower = random.choice(LOCASE_CHARACTERS)\n",
    "rand_symbol = random.choice(SYMBOLS)\n",
    "temp_pass = rand_digit + rand_upper + rand_lower + rand_symbol\n",
    "for x in range(MAX_LEN-4):\n",
    "    temp_pass = temp_pass + random.choice(COMBINED_LIST)\n",
    "    temp_pass_list=temp_pass.split()\n",
    "    random.shuffle(temp_pass_list)\n",
    "password = \"\"\n",
    "for x in temp_pass_list:\n",
    "    password = password + x\n",
    "del temp_pass\n",
    "del temp_pass_list\n",
    "with open('passwords.txt','a') as p:\n",
    "    p.write(Application+' : '+password+'\\n')"
   ]
  },
  {
   "cell_type": "code",
   "execution_count": null,
   "metadata": {},
   "outputs": [],
   "source": []
  }
 ],
 "metadata": {
  "kernelspec": {
   "display_name": "Python 3",
   "language": "python",
   "name": "python3"
  },
  "language_info": {
   "codemirror_mode": {
    "name": "ipython",
    "version": 3
   },
   "file_extension": ".py",
   "mimetype": "text/x-python",
   "name": "python",
   "nbconvert_exporter": "python",
   "pygments_lexer": "ipython3",
   "version": "3.7.6"
  }
 },
 "nbformat": 4,
 "nbformat_minor": 4
}
