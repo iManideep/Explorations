{
 "cells": [
  {
   "cell_type": "code",
   "execution_count": null,
   "metadata": {},
   "outputs": [],
   "source": [
    "from pytube import YouTube\n",
    "from urllib.parse import urlparse\n",
    "link=input(\"Enter Youtube LinkL\\n\")\n",
    "url_obj=urlparse(link)\n",
    "if all([url_obj.scheme,url_obj.netloc]):\n",
    "    if url_obj.hostname==\"www.youtube.com\":\n",
    "        yt=YouTube(link)\n",
    "        yt.streams.filter(progressive=True,res=\"720p\",mime_type=\"video/mp4\").all()[0].download('../../Downloads')\n",
    "    else:\n",
    "        print('Enter a valid YouTube URL')\n",
    "else:\n",
    "    print('Not a URL')"
   ]
  },
  {
   "cell_type": "code",
   "execution_count": null,
   "metadata": {},
   "outputs": [],
   "source": []
  }
 ],
 "metadata": {
  "kernelspec": {
   "display_name": "Python 3",
   "language": "python",
   "name": "python3"
  },
  "language_info": {
   "codemirror_mode": {
    "name": "ipython",
    "version": 3
   },
   "file_extension": ".py",
   "mimetype": "text/x-python",
   "name": "python",
   "nbconvert_exporter": "python",
   "pygments_lexer": "ipython3",
   "version": "3.7.6"
  }
 },
 "nbformat": 4,
 "nbformat_minor": 4
}
